{
 "cells": [
  {
   "cell_type": "code",
   "execution_count": 2,
   "id": "805073fd",
   "metadata": {},
   "outputs": [],
   "source": [
    "import random"
   ]
  },
  {
   "cell_type": "code",
   "execution_count": 3,
   "id": "376224d2",
   "metadata": {},
   "outputs": [],
   "source": [
    "#Distance formula\n",
    "def distance(a, b):\n",
    "    return ((a[0] - b[0])**2 + (a[1] - b[1])**2)**0.5"
   ]
  },
  {
   "cell_type": "code",
   "execution_count": 4,
   "id": "fde7b015",
   "metadata": {},
   "outputs": [],
   "source": [
    "def mean(points):\n",
    "    x = sum(p[0] for p in points) / len(points)\n",
    "    y = sum(p[1] for p in points) / len(points)\n",
    "    return [x, y]"
   ]
  },
  {
   "cell_type": "code",
   "execution_count": 17,
   "id": "f9ff9836",
   "metadata": {},
   "outputs": [],
   "source": [
    "def k_means(data, k=2, iterations=25):\n",
    "    #Taking random value for k\n",
    "    centroids = random.sample(data, k)\n",
    "    for _ in range(iterations):\n",
    "        clusters = [[] for _ in range(k)]\n",
    "\n",
    "        for point in data:\n",
    "            distances = [distance(point, c) for c in centroids]\n",
    "            closest = distances.index(min(distances))\n",
    "            clusters[closest].append(point)\n",
    "\n",
    "        for i in range(k):\n",
    "            if clusters[i]: \n",
    "                centroids[i] = mean(clusters[i])\n",
    "\n",
    "    return clusters, centroids"
   ]
  },
  {
   "cell_type": "code",
   "execution_count": 18,
   "id": "64166058",
   "metadata": {},
   "outputs": [
    {
     "name": "stdout",
     "output_type": "stream",
     "text": [
      "Final Clusters:\n",
      " Cluster 1: [[9, 8], [8, 9]]\n",
      " Cluster 2: [[1, 2], [2, 1], [4, 5], [5, 4]]\n"
     ]
    }
   ],
   "source": [
    "#Implement\n",
    "points = [[1, 2], [2, 1], [4, 5],[5, 4], [9, 8], [8, 9]]\n",
    "clusters, centroids = k_means(points, k=2)\n",
    "\n",
    "print(\"Final Clusters:\")\n",
    "for i, cluster in enumerate(clusters):\n",
    "    print(f\" Cluster {i + 1}: {cluster}\")\n"
   ]
  }
 ],
 "metadata": {
  "kernelspec": {
   "display_name": "Python 3 (ipykernel)",
   "language": "python",
   "name": "python3"
  },
  "language_info": {
   "codemirror_mode": {
    "name": "ipython",
    "version": 3
   },
   "file_extension": ".py",
   "mimetype": "text/x-python",
   "name": "python",
   "nbconvert_exporter": "python",
   "pygments_lexer": "ipython3",
   "version": "3.10.9"
  }
 },
 "nbformat": 4,
 "nbformat_minor": 5
}
