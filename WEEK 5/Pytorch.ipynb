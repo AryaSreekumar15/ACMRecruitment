{
 "cells": [
  {
   "cell_type": "code",
   "execution_count": 1,
   "id": "663bd639",
   "metadata": {},
   "outputs": [],
   "source": [
    "import torch"
   ]
  },
  {
   "cell_type": "code",
   "execution_count": 2,
   "id": "ef518f28",
   "metadata": {},
   "outputs": [
    {
     "name": "stdout",
     "output_type": "stream",
     "text": [
      "tensor([[0.4510, 0.1256, 0.4537],\n",
      "        [0.2075, 0.2681, 0.7225],\n",
      "        [0.3638, 0.9234, 0.9488]], requires_grad=True)\n",
      "tensor([[0.4149, 0.8449, 0.8292],\n",
      "        [0.0049, 0.5694, 0.4422],\n",
      "        [0.3126, 0.6823, 0.8153]])\n"
     ]
    }
   ],
   "source": [
    "x=torch.rand(3,3,requires_grad=True)\n",
    "y=torch.rand(3,3)\n",
    "print(x)\n",
    "print(y)"
   ]
  },
  {
   "cell_type": "code",
   "execution_count": 4,
   "id": "7dec2e07",
   "metadata": {},
   "outputs": [
    {
     "name": "stdout",
     "output_type": "stream",
     "text": [
      "tensor([[0.4149, 0.8449, 0.8292],\n",
      "        [0.0049, 0.5694, 0.4422],\n",
      "        [0.3126, 0.6823, 0.8153]])\n"
     ]
    }
   ],
   "source": [
    "#Autograd\n",
    "Product=x*y\n",
    "Scalar_value=Product.sum()\n",
    "Scalar_value.backward()\n",
    "print(x.grad)"
   ]
  },
  {
   "cell_type": "markdown",
   "id": "dabe7c3e",
   "metadata": {},
   "source": [
    "Working of Autograd: Autograd helps to compute the gradients through a graph structure.Pytorch creates a graph with each operation represented by nodes and the entities by edges.Once the graph is computed,a forward pass takes place which finds the output.A forwrd pass is followed by a backward pass which calculates the gradient by traversing the graph in reverse order.The values of gradient are stored in the .grad attribute."
   ]
  },
  {
   "cell_type": "code",
   "execution_count": null,
   "id": "60cdc8a2",
   "metadata": {},
   "outputs": [],
   "source": [
    "#Optimizer and loss function(Adam Optimizer and MSE loss function)\n",
    "import torch.nn as nn       #For neural networks\n",
    "import torch.optim as optim #For optimization algorithms\n",
    "\n",
    "model=nn.Linear(10,1)\n",
    "criterion=nn.MSELoss()      #Loss function\n",
    "optimizer=optim.Adam(model.parameters(),lr=0.001)\n",
    "\n",
    "inputs=torch.randn(32,10)\n",
    "targets=torch.randn(32,1)\n",
    "\n",
    "outputs=model(inputs)\n",
    "loss=criterion(outputs,targets)\n",
    "\n",
    "optimizer.zero_grad()       #Clear previous gradients\n",
    "loss.backward()             #Finds new gradients\n",
    "optimizer.step()            #Updates the model "
   ]
  }
 ],
 "metadata": {
  "kernelspec": {
   "display_name": "Python 3 (ipykernel)",
   "language": "python",
   "name": "python3"
  },
  "language_info": {
   "codemirror_mode": {
    "name": "ipython",
    "version": 3
   },
   "file_extension": ".py",
   "mimetype": "text/x-python",
   "name": "python",
   "nbconvert_exporter": "python",
   "pygments_lexer": "ipython3",
   "version": "3.10.9"
  }
 },
 "nbformat": 4,
 "nbformat_minor": 5
}
