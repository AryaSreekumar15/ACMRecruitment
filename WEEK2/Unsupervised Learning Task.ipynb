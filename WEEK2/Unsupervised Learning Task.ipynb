{
 "cells": [
  {
   "cell_type": "code",
   "execution_count": 56,
   "id": "b2f36b3b",
   "metadata": {},
   "outputs": [],
   "source": [
    "#Dataset \n",
    "from sklearn.datasets import load_iris\n",
    "#KMeans\n",
    "from sklearn.cluster import KMeans\n",
    "#DBSCAN\n",
    "from sklearn.cluster import DBSCAN\n",
    "#Hiearchical Clustering\n",
    "from scipy.cluster.hierarchy import dendrogram, linkage\n",
    "from scipy.spatial.distance import pdist\n",
    "#Standardizing Data\n",
    "from sklearn.preprocessing import StandardScaler\n",
    "#Metric evaluation\n",
    "from sklearn.metrics import silhouette_score, davies_bouldin_score"
   ]
  },
  {
   "cell_type": "code",
   "execution_count": 57,
   "id": "261490bc",
   "metadata": {},
   "outputs": [
    {
     "data": {
      "text/html": [
       "<div>\n",
       "<style scoped>\n",
       "    .dataframe tbody tr th:only-of-type {\n",
       "        vertical-align: middle;\n",
       "    }\n",
       "\n",
       "    .dataframe tbody tr th {\n",
       "        vertical-align: top;\n",
       "    }\n",
       "\n",
       "    .dataframe thead th {\n",
       "        text-align: right;\n",
       "    }\n",
       "</style>\n",
       "<table border=\"1\" class=\"dataframe\">\n",
       "  <thead>\n",
       "    <tr style=\"text-align: right;\">\n",
       "      <th></th>\n",
       "      <th>sepal length (cm)</th>\n",
       "      <th>sepal width (cm)</th>\n",
       "      <th>petal length (cm)</th>\n",
       "      <th>petal width (cm)</th>\n",
       "      <th>species</th>\n",
       "    </tr>\n",
       "  </thead>\n",
       "  <tbody>\n",
       "    <tr>\n",
       "      <th>0</th>\n",
       "      <td>5.1</td>\n",
       "      <td>3.5</td>\n",
       "      <td>1.4</td>\n",
       "      <td>0.2</td>\n",
       "      <td>0</td>\n",
       "    </tr>\n",
       "    <tr>\n",
       "      <th>1</th>\n",
       "      <td>4.9</td>\n",
       "      <td>3.0</td>\n",
       "      <td>1.4</td>\n",
       "      <td>0.2</td>\n",
       "      <td>0</td>\n",
       "    </tr>\n",
       "    <tr>\n",
       "      <th>2</th>\n",
       "      <td>4.7</td>\n",
       "      <td>3.2</td>\n",
       "      <td>1.3</td>\n",
       "      <td>0.2</td>\n",
       "      <td>0</td>\n",
       "    </tr>\n",
       "    <tr>\n",
       "      <th>3</th>\n",
       "      <td>4.6</td>\n",
       "      <td>3.1</td>\n",
       "      <td>1.5</td>\n",
       "      <td>0.2</td>\n",
       "      <td>0</td>\n",
       "    </tr>\n",
       "    <tr>\n",
       "      <th>4</th>\n",
       "      <td>5.0</td>\n",
       "      <td>3.6</td>\n",
       "      <td>1.4</td>\n",
       "      <td>0.2</td>\n",
       "      <td>0</td>\n",
       "    </tr>\n",
       "  </tbody>\n",
       "</table>\n",
       "</div>"
      ],
      "text/plain": [
       "   sepal length (cm)  sepal width (cm)  petal length (cm)  petal width (cm)  \\\n",
       "0                5.1               3.5                1.4               0.2   \n",
       "1                4.9               3.0                1.4               0.2   \n",
       "2                4.7               3.2                1.3               0.2   \n",
       "3                4.6               3.1                1.5               0.2   \n",
       "4                5.0               3.6                1.4               0.2   \n",
       "\n",
       "   species  \n",
       "0        0  \n",
       "1        0  \n",
       "2        0  \n",
       "3        0  \n",
       "4        0  "
      ]
     },
     "execution_count": 57,
     "metadata": {},
     "output_type": "execute_result"
    }
   ],
   "source": [
    "data = load_iris()\n",
    "df = pd.DataFrame(data.data, columns=data.feature_names)\n",
    "df['species'] = data.target\n",
    "df.head()"
   ]
  },
  {
   "cell_type": "code",
   "execution_count": 58,
   "id": "493c071b",
   "metadata": {},
   "outputs": [],
   "source": [
    "scaler = StandardScaler()\n",
    "df_scaled = scaler.fit_transform(df)"
   ]
  },
  {
   "cell_type": "code",
   "execution_count": 59,
   "id": "af0437a6",
   "metadata": {},
   "outputs": [
    {
     "name": "stderr",
     "output_type": "stream",
     "text": [
      "C:\\Users\\USER\\anaconda3\\lib\\site-packages\\sklearn\\cluster\\_kmeans.py:870: FutureWarning: The default value of `n_init` will change from 10 to 'auto' in 1.4. Set the value of `n_init` explicitly to suppress the warning\n",
      "  warnings.warn(\n",
      "C:\\Users\\USER\\anaconda3\\lib\\site-packages\\sklearn\\cluster\\_kmeans.py:1382: UserWarning: KMeans is known to have a memory leak on Windows with MKL, when there are less chunks than available threads. You can avoid it by setting the environment variable OMP_NUM_THREADS=1.\n",
      "  warnings.warn(\n"
     ]
    }
   ],
   "source": [
    "#KMeans\n",
    "kmeans=KMeans(n_clusters=3,random_state=42)\n",
    "kmeans_labels=kmeans.fit_predict(df_scaled)"
   ]
  },
  {
   "cell_type": "code",
   "execution_count": 60,
   "id": "6abe4f42",
   "metadata": {},
   "outputs": [],
   "source": [
    "#DBSCAN\n",
    "dbscan=DBSCAN(eps=0.5,min_samples=5)\n",
    "dbscan_labels=dbscan.fit_predict(df_scaled)"
   ]
  },
  {
   "cell_type": "code",
   "execution_count": 61,
   "id": "960bb061",
   "metadata": {},
   "outputs": [
    {
     "data": {
      "image/png": "[encoded data removed]",
      "text/plain": [
       "<Figure size 640x480 with 1 Axes>"
      ]
     },
     "metadata": {},
     "output_type": "display_data"
    }
   ],
   "source": [
    "#Hierarchal Clustering\n",
    "linkage_matrix=linkage(df_scaled, method='ward')\n",
    "dendrogram(linkage_matrix)\n",
    "from sklearn.cluster import AgglomerativeClustering\n",
    "agg_clust=AgglomerativeClustering(n_clusters=3)\n",
    "agg_labels=agg_clust.fit_predict(df_scaled)"
   ]
  },
  {
   "cell_type": "code",
   "execution_count": 63,
   "id": "9ff1841d",
   "metadata": {},
   "outputs": [
    {
     "name": "stdout",
     "output_type": "stream",
     "text": [
      "Silhouette score (Kmeans): 0.477178745137644\n",
      "Davies Bouldin Score (KMeans) 0.8389372722512615\n",
      "Silhouette score (DBSCAN): 0.22342548624684605\n",
      "Davies Bouldin Score (DBSCAN) 2.5387139388163353\n",
      "Silhouette score (Hierarchal Clustering): 0.4701940120593938\n",
      "Davies Bouldin Score (Hierarchal Clustering) 2.5387139388163353\n"
     ]
    }
   ],
   "source": [
    "#Metric\n",
    "#1\n",
    "kmeans_silhouette=silhouette_score(df_scaled,kmeans_labels)\n",
    "kmeans_db_index=davies_bouldin_score(df_scaled,kmeans_labels)\n",
    "print(\"Silhouette score (Kmeans):\",kmeans_silhouette)\n",
    "print(\"Davies Bouldin Score (KMeans)\",kmeans_db_index)\n",
    "#2\n",
    "dbscan_silhouette=silhouette_score(df_scaled,dbscan_labels) if len(set(dbscan_labels)) > 1 else -1\n",
    "dbscan_db_indedf=davies_bouldin_score(df_scaled,dbscan_labels)\n",
    "print(\"Silhouette score (DBSCAN):\",dbscan_silhouette)\n",
    "print(\"Davies Bouldin Score (DBSCAN)\",dbscan_db_indedf)\n",
    "#3\n",
    "agg_silhouette = silhouette_score(df_scaled, agg_labels)\n",
    "dbscan_db_indedf=davies_bouldin_score(df_scaled, dbscan_labels)\n",
    "print(\"Silhouette score (Hierarchal Clustering):\",agg_silhouette)\n",
    "print(\"Davies Bouldin Score (Hierarchal Clustering)\",dbscan_db_indedf)"
   ]
  }
 ],
 "metadata": {
  "kernelspec": {
   "display_name": "Python 3 (ipykernel)",
   "language": "python",
   "name": "python3"
  },
  "language_info": {
   "codemirror_mode": {
    "name": "ipython",
    "version": 3
   },
   "file_extension": ".py",
   "mimetype": "text/x-python",
   "name": "python",
   "nbconvert_exporter": "python",
   "pygments_lexer": "ipython3",
   "version": "3.10.9"
  }
 },
 "nbformat": 4,
 "nbformat_minor": 5
}
